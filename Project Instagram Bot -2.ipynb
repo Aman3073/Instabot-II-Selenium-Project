{
 "cells": [
  {
   "cell_type": "markdown",
   "id": "4a14e184",
   "metadata": {},
   "source": [
    "# Project : InstaBot-2"
   ]
  },
  {
   "cell_type": "markdown",
   "id": "b6cf23fe",
   "metadata": {},
   "source": [
    "These are the libraries, which will be used in this project code."
   ]
  },
  {
   "cell_type": "code",
   "execution_count": 7,
   "id": "4c6d37fe",
   "metadata": {},
   "outputs": [
    {
     "name": "stdout",
     "output_type": "stream",
     "text": [
      "\n"
     ]
    }
   ],
   "source": [
    "from selenium import webdriver\n",
    "from selenium.webdriver.chrome.service import Service\n",
    "from webdriver_manager.chrome import ChromeDriverManager\n",
    "import warnings\n",
    "import time\n",
    "from selenium.webdriver.common.by import By\n",
    "from selenium.webdriver.common.keys import Keys\n",
    "from selenium.webdriver.support.ui import WebDriverWait\n",
    "from selenium.webdriver.support import expected_conditions as EC\n",
    "import pandas as pd\n",
    "import matplotlib.pyplot as plt\n",
    "warnings.filterwarnings(\"ignore\", category=DeprecationWarning)\n",
    "s=Service(ChromeDriverManager().install())"
   ]
  },
  {
   "cell_type": "markdown",
   "id": "64105276",
   "metadata": {},
   "source": [
    "I am using chrome browser to open instagram. "
   ]
  },
  {
   "cell_type": "code",
   "execution_count": 8,
   "id": "616a431b",
   "metadata": {},
   "outputs": [],
   "source": [
    "driver = webdriver.Chrome(executable_path = \"C:\\\\Users\\\\hp\\\\Data-science-and-machine-learning\\\\selenium web driver\\\\chromedriver.exe\")\n",
    "driver.get(\"https://www.instagram.com\")"
   ]
  },
  {
   "cell_type": "markdown",
   "id": "24d60cc7",
   "metadata": {},
   "source": [
    "## Part-1 : Login to Your Instagram Handle & Submit with Sample Username and Password"
   ]
  },
  {
   "cell_type": "code",
   "execution_count": 9,
   "id": "2a7a48f1",
   "metadata": {},
   "outputs": [],
   "source": [
    "login = driver.find_element(By.NAME ,\"username\")\n",
    "login.send_keys(\"Aman_2022_sample_testing\")\n",
    "pass_word = driver.find_element(By.NAME ,\"password\")\n",
    "pass_word.send_keys(\"Aman8125@\")\n",
    "bt = driver.find_element(By.XPATH,'//div[contains(@class,\"bkEs3\")]')\n",
    "bt.click()\n",
    "time.sleep(3)"
   ]
  },
  {
   "cell_type": "markdown",
   "id": "bb31e119",
   "metadata": {},
   "source": [
    "## Save Information"
   ]
  },
  {
   "cell_type": "code",
   "execution_count": 10,
   "id": "1910164c",
   "metadata": {},
   "outputs": [],
   "source": [
    "save_info = WebDriverWait(driver,10).until(EC.presence_of_element_located((By.CLASS_NAME,\"cmbtv\")))\n",
    "save_info.click()"
   ]
  },
  {
   "cell_type": "markdown",
   "id": "4d57bdad",
   "metadata": {},
   "source": [
    "## Notification Window "
   ]
  },
  {
   "cell_type": "code",
   "execution_count": 11,
   "id": "9491c104",
   "metadata": {},
   "outputs": [],
   "source": [
    "notification = WebDriverWait(driver,10).until(EC.presence_of_element_located((By.CLASS_NAME,\"_a9_1\")))\n",
    "notification.click()"
   ]
  },
  {
   "cell_type": "markdown",
   "id": "f4b9779e",
   "metadata": {},
   "source": [
    "# 1. Now your friend has followed a lot of different food bloggers, he needs to analyse the habits of these bloggers."
   ]
  },
  {
   "cell_type": "markdown",
   "id": "29629951",
   "metadata": {},
   "source": [
    "### [1.1] From the list of instagram handles you obtained when you searched ‘food’ in previous project. Open the first 10 handles and find the top 5 which have the highest number of followers"
   ]
  },
  {
   "cell_type": "code",
   "execution_count": 12,
   "id": "b654a561",
   "metadata": {},
   "outputs": [
    {
     "name": "stdout",
     "output_type": "stream",
     "text": [
      "['foodtalkindia', 'food_addii', 'foodadda1', 'foodie_from_delhi_', 'kashmirfoodgram', 'gwalior_food_', 'food', 'dilsefoodie', 'bhilaifoood', 'raipurfoodpedia']\n"
     ]
    }
   ],
   "source": [
    "# Search 'food' In Search Box\n",
    "\n",
    "bt_serch = driver.find_element(By.XPATH,'//input[starts-with(@placeholder,\"Search\")]')\n",
    "bt_serch.send_keys(\"food\")\n",
    "time.sleep(2)\n",
    "\n",
    "food_list = driver.find_elements(By.XPATH,'//a[starts-with(@class,\"oajrlxb2 \")]//div[contains(@class,\"_aacl\")]/div/div')\n",
    "top_10_handal = []\n",
    "count = 0\n",
    "for i in food_list:\n",
    "    name = i.get_attribute(\"innerHTML\")\n",
    "    if \"span\" not in name:\n",
    "        top_10_handal.append(name)\n",
    "        count +=1\n",
    "    if count ==10:\n",
    "        break\n",
    "print(top_10_handal)"
   ]
  },
  {
   "cell_type": "code",
   "execution_count": 15,
   "id": "d1a99e00",
   "metadata": {},
   "outputs": [
    {
     "name": "stdout",
     "output_type": "stream",
     "text": [
      "foodtalkindia 308112\n",
      "food_addii 69753\n",
      "foodadda1 22696\n",
      "foodie_from_delhi_ 4719\n",
      "kashmirfoodgram 89132\n",
      "gwalior_food_ 251\n",
      "food 180548\n",
      "dilsefoodie 1\n",
      "bhilaifoood 2836\n",
      "raipurfoodpedia 52522\n"
     ]
    }
   ],
   "source": [
    "# find the followers for top 10 insta handel\n",
    "d = {}\n",
    "for i in top_10_handal:\n",
    "    driver.refresh()\n",
    "    time.sleep(4)\n",
    "    bt_serch = driver.find_element(By.XPATH,'//input[starts-with(@placeholder,\"Search\")]')\n",
    "    bt_serch.send_keys(i)\n",
    "    time.sleep(2)\n",
    "\n",
    "    # click on insta id\n",
    "    click_btn = WebDriverWait(driver, 10).until(EC.element_to_be_clickable((By.XPATH,'//div[@class =\"_aa61\"]//a[@href= \"/' +i+ '/\"]')))\n",
    "    click_btn.click()\n",
    "\n",
    "\n",
    "    # total no. of followers\n",
    "    time.sleep(4)\n",
    "    total_followers = driver.find_elements(By.CLASS_NAME,\"_ac2a\")[1]\n",
    "    a = total_followers.get_attribute(\"title\").split(\",\")\n",
    "    if len(a) ==2:\n",
    "        followers_no = int(a[0]+a[1])\n",
    "    else:\n",
    "        followers_no = int(a[0])\n",
    "    d[i] = followers_no\n",
    "    print(i,followers_no)\n",
    "    followers_no\n",
    "    time.sleep(4)"
   ]
  },
  {
   "cell_type": "code",
   "execution_count": 16,
   "id": "8dbe2bff",
   "metadata": {},
   "outputs": [
    {
     "name": "stdout",
     "output_type": "stream",
     "text": [
      "1 | foodtalkindia | 308112\n",
      "2 | food | 180548\n",
      "3 | kashmirfoodgram | 89132\n",
      "4 | food_addii | 69753\n",
      "5 | raipurfoodpedia | 52522\n"
     ]
    }
   ],
   "source": [
    "# find the top 5 followes \n",
    "\n",
    "top_5_followers = sorted(d.items(), key=lambda kv:(kv[1], kv[0]),reverse = True)[:5]\n",
    "for i in range(5):\n",
    "    print(i+1,\"|\",top_5_followers[i][0],\"|\",top_5_followers[i][1])"
   ]
  },
  {
   "cell_type": "markdown",
   "id": "c90403b1",
   "metadata": {},
   "source": [
    "## 2. Now Find the number of posts these handles have done in the previous 3 days."
   ]
  },
  {
   "cell_type": "code",
   "execution_count": 17,
   "id": "a5748721",
   "metadata": {},
   "outputs": [
    {
     "name": "stdout",
     "output_type": "stream",
     "text": [
      "{'foodtalkindia': 3, 'food': 2, 'kashmirfoodgram': 15, 'food_addii': 0, 'raipurfoodpedia': 0}\n"
     ]
    }
   ],
   "source": [
    "d = {}\n",
    "for p in top_5_followers:\n",
    "    driver.refresh()\n",
    "    time.sleep(4)\n",
    "    # seach for name-\n",
    "    bt_serch = WebDriverWait(driver, 10).until(EC.element_to_be_clickable((By.XPATH,'//input[starts-with(@placeholder,\"Search\")]')))\n",
    "    bt_serch.send_keys(p[0])\n",
    "    time.sleep(4)\n",
    "\n",
    "    # click on instagram handel\n",
    "    click_btn = WebDriverWait(driver, 10).until(EC.element_to_be_clickable((By.XPATH,'//div[@class =\"_aa61\"]//a[@href= \"/' +p[0]+ '/\"]')))\n",
    "    click_btn.click()\n",
    "    time.sleep(4)\n",
    "    \n",
    "    # count total post within 3 days\n",
    "    count = 0\n",
    "    i = 0\n",
    "    post_list = driver.find_element(By.XPATH,'//div[starts-with(@class,\"_aabd \")]')\n",
    "    post_list.click()\n",
    "    while True:\n",
    "        time.sleep(4)\n",
    "        # check the post time \n",
    "        post_time = driver.find_element(By.CLASS_NAME,\"_aaqe\")\n",
    "        upload_time = post_time.get_attribute(\"innerHTML\").split()\n",
    "        # check if 3 days are present \n",
    "        if len(upload_time) ==3:\n",
    "            \n",
    "            if upload_time[1] == \"hours\" or upload_time[1] ==\"hour\" or upload_time[1] == \"minutes\" or upload_time[1] == \"minute\" or upload_time[1] == \"seconds\":\n",
    "                count +=1\n",
    "            elif int(upload_time[0]) <= 3:\n",
    "                count+=1\n",
    "            else:\n",
    "                break\n",
    "        else:\n",
    "            break\n",
    "        # click on next post\n",
    "        next_button = driver.find_element(By.XPATH,'//div[contains(@class,\"_aaqg\")]')\n",
    "        next_button.click()\n",
    "        time.sleep(2)\n",
    "        i+=1\n",
    "        \n",
    "    driver.back()\n",
    "    name = p[0]\n",
    "    d[name] = count\n",
    "print(d)"
   ]
  },
  {
   "cell_type": "markdown",
   "id": "a22110ba",
   "metadata": {},
   "source": [
    "## 3.Depict this information using a suitable graph."
   ]
  },
  {
   "cell_type": "code",
   "execution_count": 18,
   "id": "5a0a942a",
   "metadata": {},
   "outputs": [
    {
     "data": {
      "image/png": "[encoded data removed]",
      "text/plain": [
       "<Figure size 500x400 with 1 Axes>"
      ]
     },
     "metadata": {},
     "output_type": "display_data"
    }
   ],
   "source": [
    "import matplotlib.pyplot as plt\n",
    "sorted_list = sorted(d.items(), key=lambda kv:(kv[1], kv[0]))\n",
    "sorted_dict = dict(sorted_list)\n",
    "\n",
    "# extracte handle name and post\n",
    "name = sorted_dict.keys()\n",
    "post_no = sorted_dict.values()\n",
    "\n",
    "# ploting bar graph for better visualization \n",
    "plt.figure(num=None, figsize=(5, 4), dpi=100, facecolor='w', edgecolor='green')\n",
    "plt.bar(name,post_no,color = 'green')\n",
    "plt.title('Top 5 Food Insta Handles v/s Number of posts previous 3 days',color = \"g\")\n",
    "plt.xlabel(\"Food Instagram Handel Name\",color = \"b\")\n",
    "plt.ylabel(\"No. of Posts in 3 days\",color = \"b\")\n",
    "plt.grid()\n",
    "plt.xticks(rotation = 20)\n",
    "plt.show()"
   ]
  },
  {
   "cell_type": "markdown",
   "id": "aa1d860d",
   "metadata": {},
   "source": [
    "# 2. Your friend also needs a list of hashtags that he should use in his posts."
   ]
  },
  {
   "cell_type": "markdown",
   "id": "8f057fa6",
   "metadata": {},
   "source": [
    "### 1. Open the 5 handles you obtained in the last question, and scrape the content of the first 10 posts of each handle."
   ]
  },
  {
   "cell_type": "code",
   "execution_count": 21,
   "id": "c263a583",
   "metadata": {},
   "outputs": [],
   "source": [
    "list_of_total_words = []\n",
    "for i in top_5_followers:\n",
    "    # seach for name-\n",
    "    driver.refresh()\n",
    "    time.sleep(4)\n",
    "    a = i[0]\n",
    "    bt_serch = WebDriverWait(driver, 10).until(EC.element_to_be_clickable((By.XPATH,'//input[starts-with(@placeholder,\"Search\")]')))\n",
    "    bt_serch.send_keys(a)\n",
    "    time.sleep(4)\n",
    "    \n",
    "    # click on instagram handel\n",
    "    click_btn = WebDriverWait(driver, 10).until(EC.element_to_be_clickable((By.XPATH,'//div[@class =\"_aa61\"]//a[@href= \"/' +a+ '/\"]')))\n",
    "    click_btn.click()\n",
    "    time.sleep(4)\n",
    "    \n",
    "    # click on 1st post \n",
    "    post_list = WebDriverWait(driver, 15).until(EC.element_to_be_clickable((By.XPATH,'//div[starts-with(@class,\"_aabd \")]')))\n",
    "    post_list.click()\n",
    "        \n",
    "    count = 1\n",
    "    while count <=10:\n",
    "        time.sleep(4)\n",
    "        post_content = driver.find_element(By.XPATH,'//div[@class=\"_a9zs\"]/span')\n",
    "        content_list = post_content.text.split()\n",
    "        list_of_total_words.append(content_list)\n",
    "\n",
    "        # click on next post \n",
    "        next_button = driver.find_element(By.XPATH,'//div[contains(@class,\"_aaqg\")]')\n",
    "        next_button.click()\n",
    "        count +=1\n",
    "    driver.back()\n",
    "    time.sleep(2)"
   ]
  },
  {
   "cell_type": "markdown",
   "id": "50721df6",
   "metadata": {},
   "source": [
    "## 2. Prepare a list of all words used in all the scraped posts and calculate the frequency of each word."
   ]
  },
  {
   "cell_type": "code",
   "execution_count": 23,
   "id": "5a9a3d3a",
   "metadata": {},
   "outputs": [
    {
     "name": "stdout",
     "output_type": "stream",
     "text": [
      "{'Little': 2, 'Miss': 2, 'knows': 1, 'up': 6, 'when': 1, 'it': 4, 'comes': 3, 'to': 38, 'spending': 1, 'on': 7, 'food': 6, 'and': 54, 'Comment': 5, 'share': 2, 'which': 1, 'you': 11, 'relate': 1, 'the': 43, 'If': 3, 'looking': 3, 'for': 19, 'fresh': 1, 'healthy': 2, 'Peels': 2, 'Nut': 3, 'Butter': 4, 'is': 21, 'right': 2, 'brand': 2, 'A': 4, 'that': 9, 'all': 3, 'about': 1, 'run': 2, 'by': 4, 'women': 1, 'who': 5, 'hold': 2, 'a': 37, 'passion': 2, 'create': 2, 'simple': 1, 'but': 2, 'in': 21, 'freshest': 2, 'possible': 1, 'Their': 2, 'butters': 1, 'come': 1, 'with': 16, 'several': 1, 'variants': 1, 'like': 1, 'Almond': 2, 'Smooth': 1, 'Coconut': 1, 'so': 3, 'much': 2, 'Its': 1, 'as': 12, 'nutty': 1, 'can': 7, 'Get': 3, 'your': 18, 'toasts': 1, 'ready': 1, 'these': 3, 'nut': 1, 'Place': 3, 'orders': 1, 'from': 11, 'their': 7, 'The': 15, 'iconic': 1, 'Gulati': 1, 'Restaurant': 1, 'at': 12, 'Pandara': 1, 'Road': 3, 'soon': 2, 'opening': 1, 'its': 4, 'first': 1, 'outlet': 3, 'Gurgaon': 1, 'DT': 1, 'Mega': 1, 'Sector': 2, 'launch': 1, 'date': 1, 'has': 6, 'not': 2, 'been': 2, 'disclosed': 1, 'yet': 1, 'fans': 2, 'of': 21, 'restaurant': 2, 'expect': 1, 'be': 6, 'open': 1, 'This': 4, 'would': 2, 'save': 1, 'travel': 1, 'time': 3, 'if': 1, 'craving': 1, 'favourite': 3, 'Chicken': 6, 'or': 5, 'below': 1, 'tell': 5, 'us': 5, 'how': 2, 'excited': 1, 'tag': 1, 'friends': 3, 'Stay': 1, 'tuned': 2, 'more': 3, 'From': 2, 'Popcorn': 1, 'Crispy': 2, 'list': 3, 'love': 1, 'Fried': 4, 'never': 1, 'Here': 3, 'are': 6, 'some': 3, 'hotspots': 1, 'capital': 1, 'get': 1, 'best': 3, 'Common': 1, 'wholesome': 1, 'artisanal': 2, 'then': 1, 'Mjöl': 3, 'Bake': 2, 'House': 2, 'Originating': 1, 'Old': 1, 'Norse': 1, 'embodies': 1, 'wholesomeness': 1, 'versatility': 1, 'most': 1, 'commonly': 1, 'used': 2, 'ingredients': 2, 'cuisines': 1, 'around': 1, 'forte': 1, 'meticulously': 1, 'handcrafted': 1, 'seasonal': 1, 'sophistication': 1, 'bake': 1, 'house': 2, 'said': 1, 'celebration': 1, 'art': 1, 'slow': 1, 'our': 2, 'top': 1, 'Peach': 1, 'Raspberry': 1, 'Danish': 1, 'Plum': 1, 'Jam': 1, 'Vanilla': 1, 'Bean': 1, 'Brioche': 2, 'Mushroom': 1, 'Puff': 1, 'Tomato': 1, 'Ricotta': 1, 'Summer': 1, 'Savoury': 1, 'Tart': 1, 'Dark': 2, 'Chocolate': 3, 'Hazelnut': 1, 'Fudge': 1, 'Salted': 1, 'Caramel': 1, 'bakery': 1, 'located': 1, 'Want': 1, 'try': 2, 'out': 3, 'new': 4, 'homegrown': 1, 'tea': 2, 'got': 1, 'amazing': 1, 'brands': 1, 'offering': 2, 'blends': 1, 'body': 1, 'An': 2, 'coffee': 4, 'chocolate': 1, 'bar': 1, 'taken': 1, 'Savorworks': 1, 'project': 3, 'where': 3, 'people': 2, 'dedicated': 1, 'deliver': 1, 'highest': 1, 'quality': 1, 'specialty': 1, 'roastery': 1, 'roasts': 1, 'small': 3, 'batches': 1, 'premium': 1, 'across': 1, 'What': 2, 'makes': 2, 'place': 3, 'special': 2, 'also': 5, 'transparency': 1, 'consumers': 1, 'they': 1, 'see': 1, 'coffees': 1, 'chocolates': 1, 'being': 1, 'made': 3, 'front': 1, 'Give': 1, 'signature': 2, 'Hot': 4, 'Mocha': 1, 'Sunset': 1, 'pair': 1, 'delish': 1, 'Feta': 1, 'Avocado': 1, 'Sourdough': 1, 'Toast': 1, 'Caprese': 1, 'Croissant': 1, 'Sandwich': 1, 'bound': 1, 'make': 1, 'tummy': 1, 'New': 2, 'Delhi': 3, 'Order': 1, 'now': 6, 'Dogs': 1, 'handpicked': 1, 'places': 1, 'worth': 1, 'hogging': 1, 'this': 6, 'visit': 1, 'order': 1, 'hot': 3, 'dog': 1, 'World': 1, 'Ice': 3, 'Cream': 1, 'Day': 1, 'here': 2, 'help': 1, 'find': 1, 'perfect': 1, 'per': 1, 'zodiac': 1, 'Tag': 4, 'ice': 4, 'cream': 5, 'horoscope': 1, 'Looking': 1, 'chill': 1, 'Monsoon': 1, 'trip': 1, 'Check': 1, 'eateries': 1, 'state': 1, 'Portuguese': 1, 'European': 1, 'spot': 1, 'launched': 1, 'promotional': 1, 'game': 1, 'accessed': 1, 'promotion': 2, 'will': 5, 'through': 2, 'give': 1, 'away': 1, 'cryptocurrency': 1, 'score': 1, 'free': 1, 'Dogecoin': 1, 'enable': 1, 'customers': 1, 'use': 2, 'crypto': 1, 'buy': 2, 'real': 1, 'only': 2, 'during': 1, 'heart': 1, 'many': 1, 'have': 5, 'buying': 1, 'dip': 1, 'Bitcoin': 1, 'Chipotle': 1, 'accepts': 1, 'digital': 2, 'including': 3, 'nationwide': 1, 'partnership': 2, 'Flexa': 1, 'enabling': 1, 'guests': 2, 'different': 1, 'do': 2, 'Bad': 1, 'cypto': 1, 'stunt': 2, 'good': 2, 'artist': 1, 'done': 1, 'collabs': 1, 'likes': 1, 'recently': 2, 'announced': 2, 'collab': 2, 'features': 2, 'collection': 1, 'monster': 1, 'designs': 1, 'based': 1, 'General': 1, 'Mills': 1, 'nostalgic': 1, 'cereal': 1, 'such': 3, 'Frankenberry': 1, 'Count': 1, 'Frute': 1, 'x': 3, 'teamed': 2, 'Chili': 5, 'Crisp': 5, 'United': 1, 'glazed': 1, 'spicy': 2, 'Sichuan': 2, 'chili': 2, 'crisp': 1, 'topped': 2, 'pickled': 1, 'shredded': 1, 'lettuce': 1, 'spring': 1, 'onion': 1, 'mayo': 1, 'held': 1, 'between': 1, 'toasted': 1, 'potato': 2, 'Additional': 1, 'items': 2, 'include': 1, 'Bites': 1, 'Cheese': 2, 'Fries': 1, 'Shack': 3, 'cheese': 1, 'sauce': 2, 'Fly': 2, 'By': 3, 'Jing': 2, 'Shake': 2, 'menu': 3, 'available': 2, 'until': 1, 'September': 1, 'Who': 1, 'wants': 1, 'fly': 1, 'UK': 1, 'epic': 1, 'chicken': 1, 'Ever': 1, 'wonder': 1, 'guacamole': 2, 'grocery': 1, 'yes': 1, 'BIG': 1, 'bowl': 1, 'Africa': 1, 'created': 2, 'actually': 1, 'develop': 1, 'marketing': 1, 'product': 1, 'innovation': 1, 'response': 1, 'global': 1, 'study': 1, 'finding': 1, 'refuse': 1, 'eat': 1, 'fries': 1, 'without': 1, 'side': 1, 'expressed': 1, 'As': 1, 'frustration': 1, 'unsatisfying': 1, 'amount': 1, 'ketchup': 2, 'any': 3, 'one': 1, 'fit': 1, 'onto': 1, 'single': 1, 'Do': 1, 'suffer': 1, 'lover': 2, 'could': 1, 'go': 1, 'Spoon': 1, 'Fry': 1, 'Brooklyn': 1, 'arts': 1, 'collective': 2, 'truck': 1, 'selling': 1, 'popsicles': 2, 'themed': 1, 'after': 2, 'richest': 1, 'called': 1, 'sold': 1, 'intentionally': 1, 'inflated': 1, 'price': 1, 'each': 1, 'NY': 1, 'flavor': 1, 'options': 1, 'included': 1, 'Munch': 1, 'Bite': 1, 'Gobble': 1, 'Snack': 1, 'Jack': 1, 'Suck': 1, 'Culinary': 1, 'Spicy': 2, 'Sovereign': 1, 'explosive': 1, 'combination': 1, 'fire': 1, 'flavors': 1, 'sweetness': 1, 'sweet': 1, 'tooth': 1, 'while': 1, 'limited': 1, 'quantities': 1, 'Chef': 2, 'Restaurateur': 1, 'just': 1, 'opened': 1, 'doors': 1, 'Arthur': 2, 'Sons': 2, 'West': 1, 'Village': 1, 'homage': 1, 'both': 1, 'design': 1, 'experience': 3, 'growing': 1, 'transports': 1, 'back': 2, 'Italian': 2, 'American': 1, 'red': 1, 'classics': 1, 'space': 1, 'speaks': 1, 'his': 1, 'early': 1, 'starters': 1, 'Prosciutto': 1, 'Shaved': 1, 'Parmigiano': 1, 'Baked': 1, 'Clams': 1, 'Mussels': 1, 'Fra': 1, 'specialties': 1, 'Meatballs': 1, 'Braciole': 1, 'over': 1, 'Veal': 1, 'Pork': 1, 'Chop': 1, 'well': 1, 'Rigatoni': 1, 'alla': 2, 'Ravioli': 1, 'handmade': 1, 'family': 1, 'Gnocchi': 1, 'Sugo': 1, 'di': 1, 'Siracha': 1, 'specifically': 1, 'movie': 2, 'theater': 2, 'popcorn': 3, 'latest': 1, 'summer': 1, 'supply': 1, 'chain': 1, 'shortage': 2, 'we': 2, 'may': 1, 'According': 1, 'report': 1, 'Wall': 1, 'Street': 2, 'Journal': 1, 'corn': 2, 'farmers': 1, 'produced': 1, 'less': 1, 'switching': 1, 'grow': 1, 'soy': 1, 'other': 1, 'There': 1, 'bags': 1, 'lining': 1, 'favorite': 1, 'pent': 1, 'demand': 1, 'led': 1, 'strong': 1, 'box': 1, 'office': 1, 'numbers': 1, 'return': 1, 'All': 1, 'leading': 1, 'blockbuster': 1, 'backlog': 1, 'beloved': 1, 'needs': 1, 'grab': 1, 'bag': 1, 'before': 1, 'gone': 1, 'bringing': 1, 'type': 1, 'curated': 1, 'introducing': 1, 'Weekender': 2, 'Delivered': 1, 'every': 1, 'culinary': 1, 'heaven': 1, 'no': 2, 'matter': 1, 'NYC': 1, 'loaded': 1, 'bagels': 1, 'pizzas': 1, 'cheesecake': 1, 'Wide': 1, 'Range': 1, 'Healthy': 1, 'Food': 6, 'Mohali': 3, 'Ka': 1, 'Famous': 3, 'Couple': 1, 'Sardarji': 1, 'Stall': 1, 'Phase': 3, 'Look': 1, 'Forbes': 1, 'India': 2, 'Digital': 1, 'too': 1, 'So': 1, 'proud': 1, 'bhai': 1, 'than': 1, 'million': 1, 'video': 3, 'Woahhhhh': 1, 'Queen': 1, 'Of': 1, 'Honey': 2, 'Authentic': 2, 'Test': 1, 'For': 2, 'Orders': 1, 'Contact': 1, 'Rab': 1, 'Nai': 1, 'Bana': 1, 'Di': 1, 'Jodi': 1, 'kripa': 1, 'Chaap': 1, 'Corner': 1, 'Panchkula': 1, 'Sec': 1, 'Ke': 1, 'Rajma': 1, 'Kadi': 1, 'Home': 2, 'Away': 1, 'Mini': 1, 'Vlog': 2, 'Ladakh': 1, 'Life': 1, 'Is': 1, 'Short': 1, 'Wear': 1, 'Jordans': 1, 'Sneaker': 2, 'Sourced': 1, 'Best': 1, 'Deals': 1, 'Follow': 1, 'cheroor': 1, 'thrissur': 1, 'biriyani': 1, 'Fuzo': 2, 'Court': 2, 'Edamuttam': 2, 'Pricing': 1, 'Biriyani': 1, 'soda': 1, 'Classic': 1, 'kunafa': 1, 'Smokie': 3, 'wounder': 1, 'cake': 1, 'orio': 1, 'biscuits': 1, 'shawarma': 1, 'sparkling': 1, 'mojitos': 1, 'oru': 2, 'adipoli': 1, 'variety': 1, 'icecream': 1, 'dessert': 1, 'shop': 1, 'stay': 1, 'full': 1, 'Guruvayur': 1, 'Kodungallur': 1, 'highway': 1, 'music': 1, 'copyright': 1, 'issue': 1, 'vannu': 1, 'continue': 1, 'comments': 1, 'giveaway': 1, 'comment': 2, 'section': 1, 'random': 1, 'winner': 1, 'selected': 1, 'session': 1, 'Zudio': 1, 'Winner': 1, 'Saturday': 1, 'THANK': 1, 'YOU': 1, 'GOD': 1, 'FOR': 1, 'BLESSING': 1, 'ME': 1, 'MUCH': 1, 'MORE': 1, 'THAN': 1, 'I': 1, 'DESERVE': 1, 'Instagram': 1, 'Family': 1, 'Still': 1, 'Believe': 1, 'Ye': 1, 'mini': 1, 'Specially': 1, 'Main': 1, 'socha': 1, 'tha': 1, 'Jab': 1, 'Ho': 1, 'Jayega': 1, 'Tab': 1, 'main': 1, 'upload': 1, 'karunga': 1, 'Thank': 1, 'guys': 1, 'Each': 1, 'everyone': 1, 'Gurdwara': 1, 'Bangla': 1, 'Sahib': 1, 'Starbucks': 1, 'Bole': 1, 'Barish': 1, 'ka': 1, 'Mausam': 1, 'Aur': 1, 'Sizzling': 1, 'Brownie': 1, 'Marine': 2, 'Drive': 1, 'Telibandha': 1, 'Mosambi': 1, 'Pineapple': 1, 'Juice': 1, 'Mix': 1, 'someone': 1, 'treat': 1, 'Biggest': 1, 'Naan': 3, 'King': 2, 'Highly': 1, 'Recommend': 1, 'Guys': 1, 'Pure': 1, 'Veg': 1, 'walo': 1, 'ke': 1, 'Liyee': 1, 'Jain': 1, 'Options': 1, 'Birthday': 1, 'kitty': 1, 'Party': 1, 'frame': 1, 'VegGullad': 1, 'kabab': 1, 'Soya': 1, 'tikka': 1, 'Roll': 1, 'Size': 1, 'Garlic': 1, 'Handi': 1, 'Dal': 1, 'Makhani': 1, 'Paneer': 2, 'Malai': 1, 'Papad': 1, 'Churi': 1, 'Salad': 1, 'Gulab': 1, 'Jamun': 1, 'With': 2, 'Icecream': 1, 'Shop': 1, 'Ground': 1, 'Chandra': 1, 'Ring': 1, 'beside': 1, 'Atal': 1, 'Chhattisgarh': 1, 'To': 1, 'Most': 1, 'FulJar': 1, 'Mango': 1, 'Soda': 1, 'MG': 1, 'chowpatty': 1, 'Chinese': 1, 'platter': 1, 'Pe': 1, 'Corn': 1, 'Chilli': 1, 'Rice': 1, 'chilli': 1, 'Manchurian': 1, 'Itna': 1, 'Sab': 1, 'Kuchh': 1, 'Avanti': 1, 'Vihar': 1, 'Raipur': 3, 'Offer': 1, 'Dessert': 1, 'Brand': 1, 'NOW': 1, 'OPEN': 1, 'promise': 1, 'an': 1, 'abundance': 1, 'times': 1, 'delicious': 1, 'bites': 1, 'Holland': 1, 'Pancakes': 1, 'Just': 1, 'Free': 1, 'Waffle': 1, 'July': 1, 'Valid': 1, 'dine': 1, 'No': 1, 'Spree': 1, 'Opp': 1, 'Half': 2, 'n': 1, 'Your': 1, 'Fav': 1, 'kya': 1}\n",
      "{'#littlemiss': 1, '#cuisines': 1, '#gec': 1, '#streetfood': 4, '#foodtalkindia': 10, '#foodtalk': 10, '#fti': 10, '#food': 19, '#foodie': 21, '#foodies': 12, '#foodgram': 10, '#foodgasm': 10, '#foodiesofindia': 10, '#foodblogger': 19, '#foodfeed': 10, '#delicious': 10, '#yummy': 11, '#instagood': 11, '#instafood': 10, '#instagram': 10, '#FTIFinds': 3, '#nutbutter': 1, '#peanutbutter': 1, '#almondbutter': 1, '#spreads': 1, '#handcrafted': 2, '#fresh': 1, '#NewInTown': 1, '#newintown': 1, '#gulatirestaurant': 1, '#butterchicken': 1, '#biryani': 1, '#iconic': 1, '#famous': 1, '#mughlai': 1, '#hyderabadi': 1, '#northindian': 1, '#friedchicken': 3, '#chickenpopcorn': 1, '#koreanchicken': 1, '#buffalowings': 1, '#restaurants': 2, '#bakery': 1, '#pastries': 2, '#danish': 1, '#puffs': 1, '#artisanal': 1, '#brioche': 1, '#homegrown': 1, '#tea': 1, '#monsoon': 2, '#ayurvedic': 1, '#savorworksroasters': 1, '#coffee': 1, '#chocolate': 1, '#organic': 2, '#vegan': 1, '#discover': 1, '#cafe': 1, '#bombaycuisine': 1, '#reels': 3, '#reelitfeelit': 1, '#instareels': 1, '#foodreels': 4, '#hotdog': 1, '#icecream': 5, '#horoscope': 1, '#zodiacsigns': 1, '#goa': 1, '#instagramworthy': 1, '#cafes': 1, '#eateries': 1, '#foodnews': 4, '#chipolte': 1, '#guacamole': 2, '#guac': 2, '#web3': 1, '#crypto': 1, '#cryptocurrency': 1, '#foodcollabs': 3, '#breakfast': 2, '#breakfastcereal': 1, '#kaws': 1, '#spicy': 2, '#shakeshack': 1, '#flybyjing': 1, '#avocado': 1, '#handmade': 1, '#westchestercounty': 1, '#newyork': 1, '#heinz': 1, '#ketchup': 1, '#frenchfries': 1, '#sweet': 1, '#maplesyrup': 1, '#popcorn': 1, '#movies': 1, '#summer': 1, '#supermarket': 1, '#thebasketsupermarket': 1, '#kashmirfoodgram': 8, '#sardarji': 1, '#mohali': 3, '#punjab': 3, '#chandigarh': 3, '#streetfoodindia': 2, '#kashmiri': 1, '#kashmir': 2, '#star': 1, '#forbesstar': 1, '#forbesindia': 1, '#proud': 1, '#success': 1, '#fashion': 3, '#fashioninterview': 1, '#neongreen': 1, '#hnm': 1, '#fashionandfood': 1, '#looks': 1, '#eat': 1, '#30': 1, '#million': 1, '#indianstreetfood': 2, '#chaat': 1, '#honey': 1, '#acaciahoney': 1, '#whitehoney': 1, '#chaap': 1, '#soyachaap': 1, '#rajma': 1, '#kadi': 1, '#panchkula': 1, '#kashmiroodgram': 1, '#indianfoodblogger': 1, '#sarposh': 1, '#banglore': 1, '#vlog': 1, '#ladakh': 1, '#travel': 1, '#apricots': 1, '#vlogger': 1, '#explorepage': 1, '#igdaily': 1, '#jordan1retrohighhandcrafted': 1, '#jordan1retro': 1, '#airjordan1high': 1, '#sneakerheadindia': 1, '#sneakerhead': 1, '#foodporn': 8, '#keralabreakfast': 1, '#keralalunch': 1, '#keralafood': 3, '#budgetfood': 1, '#foodspots': 1, '#kochi': 6, '#kozhikode': 2, '#keralagram': 4, '#foodhunting': 1, '#thrissur': 8, '#thrissurpooram': 1, '#thrissurkaran': 6, '#kottyam': 1, '#southindianfood': 4, '#varkala': 1, '#varkalacliff': 1, '#varkalabeach': 1, '#beachlover': 1, '#beachlovers': 1, '#beachlife': 1, '#foodblogfeed': 1, '#foodblog': 1, '#keralatourism': 2, '#malappuram': 1, '#malayalam': 1, '#thrissurfoodies': 5, '#bangalore': 1, '#chennai': 1, '#friedchickenburger': 1, '#burger': 1, '#burgerlover': 1, '#burgerking': 1, '#kerala': 6, '#foodpost': 5, '#thrissurfoodies🍧': 1, '#foodheaven': 1, '#biriyaniicecream': 2, '#icecreamlover': 1, '#snacks': 2, '#thrissurinsta': 3, '#keralagodsowncountry': 1, '#kochifood': 1, '#foodaddict': 1, '#trivandrum': 1, '#kozhikodebeach': 1, '#kannur': 1, '#juice': 2, '#shake': 2, '#eggpuff': 1, '#shawarmaicecream': 1, '#mojito': 1, '#oreo': 1, '#junkfood': 3, '#delious': 1, '#ernakulam': 2, '#foodlove': 3, '#thrissurviews': 1, '#edamuttam': 2, '#foodpsotting': 1, '#dessert': 1, '#smokie': 1, '#biriryani': 1, '#cakes': 1, '#trending': 1, '#kunafa': 1, '#foodhunter': 3, '#tamil': 1, '#northindianfood': 1, '#guruvayoor': 1, '#kodungallur': 1, '#chalakudy': 3, '#tripryar': 1, '#foodgiveaway': 1, '#chickenlove': 1, '#grilledchicken': 1, '#chickenstrips': 1, '#friedfood': 2, '#lulumall': 1, '#lulumallkochi': 1, '#fortkochi': 1, '#aluva': 1, '#edapally': 1, '#palarivattom': 1, '#rucebowl': 1, '#chickenwings': 1, '#periperichicken': 1, '#wowchicken': 1, '#wowomoms': 1, '#zudiofashion': 1, '#zudiohaul': 1, '#offers': 1, '#menswear': 1, '#mensfashion': 1, '#keralamodel': 1, '#foodlover': 1, '#foodpage': 1, '#dresses': 1, '#thrissurround': 1, '#irijalakuda': 1, '#kodugallur': 1, '#fashionblogger': 1, '#fashiondesigner': 1, '#mallu': 2, '#beef': 1, '#beefcurry': 1, '#beefry': 1, '#biriyani': 1, '#giveaway': 1, '#fodorstravel': 1, '#foodlovers': 1, '#thrissurfood': 2, '#thrissurfoodvibes': 1, '#foodpsot': 1, '#thrissurpooram2022': 1, '#thrissurgram': 1, '#newdelhi': 1, '#raipurfoodpedia': 4, '#gurudwarashaheeda_sahibji': 1, '#indianfoodbloggers': 3, '#boireeltime': 3, '#feelkaroreelkaro': 4, '#delhifoodie': 3, '#mumbaifoodie': 2, '#kolkatadelites': 4, '#feelitreelit': 2, '#thepunefoodie': 2, '#indorizayka': 2, '#bangloreblogger': 2, '#chandigarhfoodie': 2, '#delhistreetfood': 5, '#raipur': 1, '#nagpuritadka': 2, '#jaipurblogger': 2, '#flavorsoflucknow': 2, '#zingyzest': 2, '#punefoodie': 2, '#starbucks': 1, '#bhilaians': 1, '#durg': 1, '#reelsinstagram': 1, '#bornoninstagram': 1, '#kakedihatti': 1, '#delhifood': 1, '#soda': 1, '#milansoda': 1, '#RAIPUR,': 1, '#karims': 1, '#karimsadli': 1, '#delhi': 1, '#chai': 1, '#chailover': 1}\n"
     ]
    }
   ],
   "source": [
    "# count the frequency of word and hashtag\n",
    "word_frequency = {}\n",
    "hashtag_frequency = {}\n",
    "for i in list_of_total_words:\n",
    "    for word in i:\n",
    "        if word.isalpha() == True:\n",
    "            word_frequency[word] = word_frequency.get(word,0)+1\n",
    "        elif word[0] == \"#\":\n",
    "            hashtag_frequency[word] = hashtag_frequency.get(word,0)+1\n",
    "            \n",
    "print(word_frequency)      \n",
    "print(hashtag_frequency)"
   ]
  },
  {
   "cell_type": "markdown",
   "id": "ba036455",
   "metadata": {},
   "source": [
    "## 3.Create a csv file with two columns : the word and its frequency"
   ]
  },
  {
   "cell_type": "code",
   "execution_count": 24,
   "id": "3b9ee68c",
   "metadata": {},
   "outputs": [],
   "source": [
    "# convert word dictionary in to list for data-frame \n",
    "word_list = sorted(word_frequency.items(), key=lambda kv:(kv[1], kv[0]))"
   ]
  },
  {
   "cell_type": "code",
   "execution_count": 25,
   "id": "a1a6b943",
   "metadata": {},
   "outputs": [
    {
     "data": {
      "text/html": [
       "<div>\n",
       "<style scoped>\n",
       "    .dataframe tbody tr th:only-of-type {\n",
       "        vertical-align: middle;\n",
       "    }\n",
       "\n",
       "    .dataframe tbody tr th {\n",
       "        vertical-align: top;\n",
       "    }\n",
       "\n",
       "    .dataframe thead th {\n",
       "        text-align: right;\n",
       "    }\n",
       "</style>\n",
       "<table border=\"1\" class=\"dataframe\">\n",
       "  <thead>\n",
       "    <tr style=\"text-align: right;\">\n",
       "      <th></th>\n",
       "      <th>Word</th>\n",
       "      <th>frequency</th>\n",
       "    </tr>\n",
       "  </thead>\n",
       "  <tbody>\n",
       "    <tr>\n",
       "      <th>0</th>\n",
       "      <td>According</td>\n",
       "      <td>1</td>\n",
       "    </tr>\n",
       "    <tr>\n",
       "      <th>1</th>\n",
       "      <td>Additional</td>\n",
       "      <td>1</td>\n",
       "    </tr>\n",
       "    <tr>\n",
       "      <th>2</th>\n",
       "      <td>Africa</td>\n",
       "      <td>1</td>\n",
       "    </tr>\n",
       "    <tr>\n",
       "      <th>3</th>\n",
       "      <td>All</td>\n",
       "      <td>1</td>\n",
       "    </tr>\n",
       "    <tr>\n",
       "      <th>4</th>\n",
       "      <td>American</td>\n",
       "      <td>1</td>\n",
       "    </tr>\n",
       "    <tr>\n",
       "      <th>...</th>\n",
       "      <td>...</td>\n",
       "      <td>...</td>\n",
       "    </tr>\n",
       "    <tr>\n",
       "      <th>830</th>\n",
       "      <td>of</td>\n",
       "      <td>21</td>\n",
       "    </tr>\n",
       "    <tr>\n",
       "      <th>831</th>\n",
       "      <td>a</td>\n",
       "      <td>37</td>\n",
       "    </tr>\n",
       "    <tr>\n",
       "      <th>832</th>\n",
       "      <td>to</td>\n",
       "      <td>38</td>\n",
       "    </tr>\n",
       "    <tr>\n",
       "      <th>833</th>\n",
       "      <td>the</td>\n",
       "      <td>43</td>\n",
       "    </tr>\n",
       "    <tr>\n",
       "      <th>834</th>\n",
       "      <td>and</td>\n",
       "      <td>54</td>\n",
       "    </tr>\n",
       "  </tbody>\n",
       "</table>\n",
       "<p>835 rows × 2 columns</p>\n",
       "</div>"
      ],
      "text/plain": [
       "           Word  frequency\n",
       "0     According          1\n",
       "1    Additional          1\n",
       "2        Africa          1\n",
       "3           All          1\n",
       "4      American          1\n",
       "..          ...        ...\n",
       "830          of         21\n",
       "831           a         37\n",
       "832          to         38\n",
       "833         the         43\n",
       "834         and         54\n",
       "\n",
       "[835 rows x 2 columns]"
      ]
     },
     "execution_count": 25,
     "metadata": {},
     "output_type": "execute_result"
    }
   ],
   "source": [
    "# use pandas dataframe \n",
    "df = pd.DataFrame(word_list, columns=['Word', 'frequency'])\n",
    "df"
   ]
  },
  {
   "cell_type": "code",
   "execution_count": 26,
   "id": "d3566e81",
   "metadata": {},
   "outputs": [],
   "source": [
    "# creat a csv file using to_csv\n",
    "df.to_csv('words_and_frequency.csv', index = False )"
   ]
  },
  {
   "cell_type": "markdown",
   "id": "10a6781a",
   "metadata": {},
   "source": [
    "## 2.4 Now, find the hashtags that were most popular among these bloggers"
   ]
  },
  {
   "cell_type": "code",
   "execution_count": 27,
   "id": "e974c7f1",
   "metadata": {},
   "outputs": [
    {
     "data": {
      "text/plain": [
       "[('#foodie', 21),\n",
       " ('#foodblogger', 19),\n",
       " ('#food', 19),\n",
       " ('#foodies', 12),\n",
       " ('#yummy', 11),\n",
       " ('#instagood', 11),\n",
       " ('#instagram', 10),\n",
       " ('#instafood', 10),\n",
       " ('#fti', 10),\n",
       " ('#foodtalkindia', 10),\n",
       " ('#foodtalk', 10),\n",
       " ('#foodiesofindia', 10),\n",
       " ('#foodgram', 10),\n",
       " ('#foodgasm', 10),\n",
       " ('#foodfeed', 10),\n",
       " ('#delicious', 10),\n",
       " ('#thrissur', 8),\n",
       " ('#kashmirfoodgram', 8),\n",
       " ('#foodporn', 8),\n",
       " ('#thrissurkaran', 6),\n",
       " ('#kochi', 6),\n",
       " ('#kerala', 6),\n",
       " ('#thrissurfoodies', 5),\n",
       " ('#icecream', 5),\n",
       " ('#foodpost', 5),\n",
       " ('#delhistreetfood', 5),\n",
       " ('#streetfood', 4),\n",
       " ('#southindianfood', 4),\n",
       " ('#raipurfoodpedia', 4),\n",
       " ('#kolkatadelites', 4),\n",
       " ('#keralagram', 4),\n",
       " ('#foodreels', 4),\n",
       " ('#foodnews', 4),\n",
       " ('#feelkaroreelkaro', 4),\n",
       " ('#thrissurinsta', 3),\n",
       " ('#reels', 3),\n",
       " ('#punjab', 3),\n",
       " ('#mohali', 3),\n",
       " ('#keralafood', 3),\n",
       " ('#junkfood', 3),\n",
       " ('#indianfoodbloggers', 3),\n",
       " ('#friedchicken', 3),\n",
       " ('#foodlove', 3),\n",
       " ('#foodhunter', 3),\n",
       " ('#foodcollabs', 3),\n",
       " ('#fashion', 3),\n",
       " ('#delhifoodie', 3),\n",
       " ('#chandigarh', 3),\n",
       " ('#chalakudy', 3),\n",
       " ('#boireeltime', 3),\n",
       " ('#FTIFinds', 3),\n",
       " ('#zingyzest', 2),\n",
       " ('#thrissurfood', 2),\n",
       " ('#thepunefoodie', 2),\n",
       " ('#streetfoodindia', 2),\n",
       " ('#spicy', 2),\n",
       " ('#snacks', 2),\n",
       " ('#shake', 2),\n",
       " ('#restaurants', 2),\n",
       " ('#punefoodie', 2),\n",
       " ('#pastries', 2),\n",
       " ('#organic', 2),\n",
       " ('#nagpuritadka', 2),\n",
       " ('#mumbaifoodie', 2),\n",
       " ('#monsoon', 2),\n",
       " ('#mallu', 2),\n",
       " ('#kozhikode', 2),\n",
       " ('#keralatourism', 2),\n",
       " ('#kashmir', 2),\n",
       " ('#juice', 2),\n",
       " ('#jaipurblogger', 2),\n",
       " ('#indorizayka', 2),\n",
       " ('#indianstreetfood', 2),\n",
       " ('#handcrafted', 2),\n",
       " ('#guacamole', 2),\n",
       " ('#guac', 2),\n",
       " ('#friedfood', 2),\n",
       " ('#flavorsoflucknow', 2),\n",
       " ('#feelitreelit', 2),\n",
       " ('#ernakulam', 2),\n",
       " ('#edamuttam', 2),\n",
       " ('#chandigarhfoodie', 2),\n",
       " ('#breakfast', 2),\n",
       " ('#biriyaniicecream', 2),\n",
       " ('#bangloreblogger', 2),\n",
       " ('#zudiohaul', 1),\n",
       " ('#zudiofashion', 1),\n",
       " ('#zodiacsigns', 1),\n",
       " ('#wowomoms', 1),\n",
       " ('#wowchicken', 1),\n",
       " ('#whitehoney', 1),\n",
       " ('#westchestercounty', 1),\n",
       " ('#web3', 1),\n",
       " ('#vlogger', 1),\n",
       " ('#vlog', 1),\n",
       " ('#vegan', 1),\n",
       " ('#varkalacliff', 1),\n",
       " ('#varkalabeach', 1),\n",
       " ('#varkala', 1),\n",
       " ('#trivandrum', 1),\n",
       " ('#tripryar', 1),\n",
       " ('#trending', 1),\n",
       " ('#travel', 1),\n",
       " ('#thrissurviews', 1),\n",
       " ('#thrissurround', 1),\n",
       " ('#thrissurpooram2022', 1),\n",
       " ('#thrissurpooram', 1),\n",
       " ('#thrissurgram', 1),\n",
       " ('#thrissurfoodvibes', 1),\n",
       " ('#thrissurfoodies🍧', 1),\n",
       " ('#thebasketsupermarket', 1),\n",
       " ('#tea', 1),\n",
       " ('#tamil', 1),\n",
       " ('#sweet', 1),\n",
       " ('#supermarket', 1),\n",
       " ('#summer', 1),\n",
       " ('#success', 1),\n",
       " ('#starbucks', 1),\n",
       " ('#star', 1),\n",
       " ('#spreads', 1),\n",
       " ('#soyachaap', 1),\n",
       " ('#soda', 1),\n",
       " ('#sneakerheadindia', 1),\n",
       " ('#sneakerhead', 1),\n",
       " ('#smokie', 1),\n",
       " ('#shawarmaicecream', 1),\n",
       " ('#shakeshack', 1),\n",
       " ('#savorworksroasters', 1),\n",
       " ('#sarposh', 1),\n",
       " ('#sardarji', 1),\n",
       " ('#rucebowl', 1),\n",
       " ('#reelsinstagram', 1),\n",
       " ('#reelitfeelit', 1),\n",
       " ('#rajma', 1),\n",
       " ('#raipur', 1),\n",
       " ('#puffs', 1),\n",
       " ('#proud', 1),\n",
       " ('#popcorn', 1),\n",
       " ('#periperichicken', 1),\n",
       " ('#peanutbutter', 1),\n",
       " ('#panchkula', 1),\n",
       " ('#palarivattom', 1),\n",
       " ('#oreo', 1),\n",
       " ('#offers', 1),\n",
       " ('#nutbutter', 1),\n",
       " ('#northindianfood', 1),\n",
       " ('#northindian', 1),\n",
       " ('#newyork', 1),\n",
       " ('#newintown', 1),\n",
       " ('#newdelhi', 1),\n",
       " ('#neongreen', 1),\n",
       " ('#mughlai', 1),\n",
       " ('#movies', 1),\n",
       " ('#mojito', 1),\n",
       " ('#million', 1),\n",
       " ('#milansoda', 1),\n",
       " ('#menswear', 1),\n",
       " ('#mensfashion', 1),\n",
       " ('#maplesyrup', 1),\n",
       " ('#malayalam', 1),\n",
       " ('#malappuram', 1),\n",
       " ('#lulumallkochi', 1),\n",
       " ('#lulumall', 1),\n",
       " ('#looks', 1),\n",
       " ('#littlemiss', 1),\n",
       " ('#ladakh', 1),\n",
       " ('#kunafa', 1),\n",
       " ('#kozhikodebeach', 1),\n",
       " ('#kottyam', 1),\n",
       " ('#koreanchicken', 1),\n",
       " ('#kodungallur', 1),\n",
       " ('#kodugallur', 1),\n",
       " ('#kochifood', 1),\n",
       " ('#ketchup', 1),\n",
       " ('#keralamodel', 1),\n",
       " ('#keralalunch', 1),\n",
       " ('#keralagodsowncountry', 1),\n",
       " ('#keralabreakfast', 1),\n",
       " ('#kaws', 1),\n",
       " ('#kashmiroodgram', 1),\n",
       " ('#kashmiri', 1),\n",
       " ('#karimsadli', 1),\n",
       " ('#karims', 1),\n",
       " ('#kannur', 1),\n",
       " ('#kakedihatti', 1),\n",
       " ('#kadi', 1),\n",
       " ('#jordan1retrohighhandcrafted', 1),\n",
       " ('#jordan1retro', 1),\n",
       " ('#irijalakuda', 1),\n",
       " ('#instareels', 1),\n",
       " ('#instagramworthy', 1),\n",
       " ('#indianfoodblogger', 1),\n",
       " ('#igdaily', 1),\n",
       " ('#iconic', 1),\n",
       " ('#icecreamlover', 1),\n",
       " ('#hyderabadi', 1),\n",
       " ('#hotdog', 1),\n",
       " ('#horoscope', 1),\n",
       " ('#honey', 1),\n",
       " ('#homegrown', 1),\n",
       " ('#hnm', 1),\n",
       " ('#heinz', 1),\n",
       " ('#handmade', 1),\n",
       " ('#guruvayoor', 1),\n",
       " ('#gurudwarashaheeda_sahibji', 1),\n",
       " ('#gulatirestaurant', 1),\n",
       " ('#grilledchicken', 1),\n",
       " ('#goa', 1),\n",
       " ('#giveaway', 1),\n",
       " ('#gec', 1),\n",
       " ('#friedchickenburger', 1),\n",
       " ('#fresh', 1),\n",
       " ('#frenchfries', 1),\n",
       " ('#fortkochi', 1),\n",
       " ('#forbesstar', 1),\n",
       " ('#forbesindia', 1),\n",
       " ('#foodspots', 1),\n",
       " ('#foodpsotting', 1),\n",
       " ('#foodpsot', 1),\n",
       " ('#foodpage', 1),\n",
       " ('#foodlovers', 1),\n",
       " ('#foodlover', 1),\n",
       " ('#foodhunting', 1),\n",
       " ('#foodheaven', 1),\n",
       " ('#foodgiveaway', 1),\n",
       " ('#foodblogfeed', 1),\n",
       " ('#foodblog', 1),\n",
       " ('#foodaddict', 1),\n",
       " ('#fodorstravel', 1),\n",
       " ('#flybyjing', 1),\n",
       " ('#fashioninterview', 1),\n",
       " ('#fashiondesigner', 1),\n",
       " ('#fashionblogger', 1),\n",
       " ('#fashionandfood', 1),\n",
       " ('#famous', 1),\n",
       " ('#explorepage', 1),\n",
       " ('#eggpuff', 1),\n",
       " ('#edapally', 1),\n",
       " ('#eateries', 1),\n",
       " ('#eat', 1),\n",
       " ('#durg', 1),\n",
       " ('#dresses', 1),\n",
       " ('#discover', 1),\n",
       " ('#dessert', 1),\n",
       " ('#delious', 1),\n",
       " ('#delhifood', 1),\n",
       " ('#delhi', 1),\n",
       " ('#danish', 1),\n",
       " ('#cuisines', 1),\n",
       " ('#cryptocurrency', 1),\n",
       " ('#crypto', 1),\n",
       " ('#coffee', 1),\n",
       " ('#chocolate', 1),\n",
       " ('#chipolte', 1),\n",
       " ('#chickenwings', 1),\n",
       " ('#chickenstrips', 1),\n",
       " ('#chickenpopcorn', 1),\n",
       " ('#chickenlove', 1),\n",
       " ('#chennai', 1),\n",
       " ('#chailover', 1),\n",
       " ('#chai', 1),\n",
       " ('#chaat', 1),\n",
       " ('#chaap', 1),\n",
       " ('#cakes', 1),\n",
       " ('#cafes', 1),\n",
       " ('#cafe', 1),\n",
       " ('#butterchicken', 1),\n",
       " ('#burgerlover', 1),\n",
       " ('#burgerking', 1),\n",
       " ('#burger', 1),\n",
       " ('#buffalowings', 1),\n",
       " ('#budgetfood', 1),\n",
       " ('#brioche', 1),\n",
       " ('#breakfastcereal', 1),\n",
       " ('#bornoninstagram', 1),\n",
       " ('#bombaycuisine', 1),\n",
       " ('#biryani', 1),\n",
       " ('#biriyani', 1),\n",
       " ('#biriryani', 1),\n",
       " ('#bhilaians', 1),\n",
       " ('#beefry', 1),\n",
       " ('#beefcurry', 1),\n",
       " ('#beef', 1),\n",
       " ('#beachlovers', 1),\n",
       " ('#beachlover', 1),\n",
       " ('#beachlife', 1),\n",
       " ('#banglore', 1),\n",
       " ('#bangalore', 1),\n",
       " ('#bakery', 1),\n",
       " ('#ayurvedic', 1),\n",
       " ('#avocado', 1),\n",
       " ('#artisanal', 1),\n",
       " ('#apricots', 1),\n",
       " ('#aluva', 1),\n",
       " ('#almondbutter', 1),\n",
       " ('#airjordan1high', 1),\n",
       " ('#acaciahoney', 1),\n",
       " ('#RAIPUR,', 1),\n",
       " ('#NewInTown', 1),\n",
       " ('#30', 1)]"
      ]
     },
     "execution_count": 27,
     "metadata": {},
     "output_type": "execute_result"
    }
   ],
   "source": [
    "# hashtags with frequency is already stored in hashtag_frequency\n",
    "sorted_hashtags = sorted(hashtag_frequency.items(), key=lambda kv:(kv[1], kv[0]),reverse=True)\n",
    "sorted_hashtags"
   ]
  },
  {
   "cell_type": "markdown",
   "id": "cc9f1ca5",
   "metadata": {},
   "source": [
    "## 2.5 Plot a Pie Chart of the top 5 hashtags obtained and the number of times they were used by these bloggers in the scraped posts."
   ]
  },
  {
   "cell_type": "code",
   "execution_count": 28,
   "id": "c40460bd",
   "metadata": {},
   "outputs": [
    {
     "data": {
      "image/png": "[encoded data removed]",
      "text/plain": [
       "<Figure size 432x288 with 1 Axes>"
      ]
     },
     "metadata": {},
     "output_type": "display_data"
    }
   ],
   "source": [
    "# top 5 hashtags with frequency\n",
    "\n",
    "top_5_hashtags_list = sorted_hashtags[:5]\n",
    "top_5_hashtags_dict = dict(top_5_hashtags_list)\n",
    "\n",
    "hashtag_name = top_5_hashtags_dict.keys()\n",
    "hashtag_frequency = top_5_hashtags_dict.values()\n",
    "\n",
    "# plot the pie chart\n",
    "color = [\"beige\", \"orange\", \"blue\", \"pink\", \"grey\"]\n",
    "plt.pie(hashtag_frequency,labels = hashtag_name, colors = color, autopct = \"%.2f%%\")\n",
    "plt.title(\"Top 5 Hashtags used by bloggers vs Their Frequency\")\n",
    "plt.axis()\n",
    "plt.show()"
   ]
  },
  {
   "cell_type": "markdown",
   "id": "2ef063f9",
   "metadata": {},
   "source": [
    "# 3. You need to also calculate average followers : likes ratio for the obtained handles.\n",
    "## Followers : Likes ratio is calculated as follows:\n",
    "### [3.1]  Find out the likes of the top 10 posts of the 5 handles obtained earlier.\n"
   ]
  },
  {
   "cell_type": "code",
   "execution_count": 31,
   "id": "046b17f0",
   "metadata": {},
   "outputs": [],
   "source": [
    "d = {}\n",
    "for i in top_5_followers:\n",
    "    \n",
    "    # seach for name-\n",
    "    driver.refresh()\n",
    "    time.sleep(4)\n",
    "    name = i[0]\n",
    "    bt_serch = WebDriverWait(driver, 10).until(EC.element_to_be_clickable((By.XPATH,'//input[starts-with(@placeholder,\"Search\")]')))\n",
    "    bt_serch.send_keys(name)\n",
    "    time.sleep(4)\n",
    "    # click on instagram handel\n",
    "    click_btn = WebDriverWait(driver, 10).until(EC.element_to_be_clickable((By.XPATH,'//div[@class =\"_aa61\"]//a[@href= \"/' +name+ '/\"]')))\n",
    "    click_btn.click()\n",
    "    time.sleep(4)\n",
    "    \n",
    "    # click on 1st post\n",
    "    post_list = driver.find_element(By.XPATH,'//div[starts-with(@class,\"_aabd \")]')\n",
    "    post_list.click()\n",
    "    total_like = 0  \n",
    "    count = 1\n",
    "    while count <=10:\n",
    "        time.sleep(4)\n",
    "        # if number of likes is present \n",
    "        try:\n",
    "            # if number of likes is present \n",
    "            post_content = WebDriverWait(driver, 15).until(EC.element_to_be_clickable(driver.find_element(By.XPATH,'//section[starts-with(@class,\"_aam_\")]/div')))\n",
    "\n",
    "            # if like more than 999\n",
    "            try:\n",
    "                a = post_content.text.split()[0].split(\",\")\n",
    "                post_like = int(a[0]+a[1])    \n",
    "            except IndexError :\n",
    "                a = post_content.text.split()[0]\n",
    "                post_like = int(a)\n",
    "            \n",
    "            total_like += post_like\n",
    "            count +=1\n",
    "            # click on next post \n",
    "            next_button = driver.find_element(By.XPATH,'//div[contains(@class,\"_aaqg\")]')\n",
    "            next_button.click()\n",
    "\n",
    "        #  if number of likes is not present we check next post \n",
    "        except ValueError:\n",
    "            next_button = driver.find_element(By.XPATH,'//div[contains(@class,\"_aaqg\")]')\n",
    "            next_button.click()\n",
    "        \n",
    "    d[name] = total_like\n",
    "    driver.back()\n",
    "    time.sleep(4)\n",
    "    "
   ]
  },
  {
   "cell_type": "code",
   "execution_count": 32,
   "id": "43839416",
   "metadata": {},
   "outputs": [
    {
     "data": {
      "text/plain": [
       "{'foodtalkindia': 4045,\n",
       " 'food': 2176,\n",
       " 'kashmirfoodgram': 7895,\n",
       " 'food_addii': 212232,\n",
       " 'raipurfoodpedia': 15576}"
      ]
     },
     "execution_count": 32,
     "metadata": {},
     "output_type": "execute_result"
    }
   ],
   "source": [
    "# find the insta handel and no of like\n",
    "print(d)"
   ]
  },
  {
   "cell_type": "markdown",
   "id": "351d2e2b",
   "metadata": {},
   "source": [
    "# 3.2 Calculate the average likes for a handle."
   ]
  },
  {
   "cell_type": "code",
   "execution_count": 33,
   "id": "57b6eb9d",
   "metadata": {},
   "outputs": [
    {
     "name": "stdout",
     "output_type": "stream",
     "text": [
      "1 | foodtalkindia | avg likes- 404.5\n",
      "2 | food | avg likes- 217.6\n",
      "3 | kashmirfoodgram | avg likes- 789.5\n",
      "4 | food_addii | avg likes- 21223.2\n",
      "5 | raipurfoodpedia | avg likes- 1557.6\n"
     ]
    }
   ],
   "source": [
    "# find avgerage like for a insta handle\n",
    "avg_like = {}\n",
    "a = 1\n",
    "for i in d:\n",
    "    print(a,'|',i,'|',\"avg likes-\",d[i]/10)\n",
    "    avg_like[i] = d[i]/10\n",
    "    a +=1"
   ]
  },
  {
   "cell_type": "markdown",
   "id": "f9f42904",
   "metadata": {},
   "source": [
    "## 3.3 Divide the average likes obtained from the number of followers of the handle to get the average followers:like ratio of each handle."
   ]
  },
  {
   "cell_type": "code",
   "execution_count": 34,
   "id": "18be74cb",
   "metadata": {},
   "outputs": [
    {
     "name": "stdout",
     "output_type": "stream",
     "text": [
      "1  |  foodtalkindia  |  761.7107540173054\n",
      "2  |  food  |  829.7242647058823\n",
      "3  |  kashmirfoodgram  |  112.89677010766307\n",
      "4  |  food_addii  |  3.2866391496098606\n",
      "5  |  raipurfoodpedia  |  33.719825372367744\n"
     ]
    }
   ],
   "source": [
    "# like ratio\n",
    "like_ratio = []\n",
    "insta_name = []\n",
    "a = 1\n",
    "for i in top_5_followers:\n",
    "    name = i[0]\n",
    "    followers  = i[1]\n",
    "    lr = followers/avg_like[name]\n",
    "    print(a,\" | \",name, \" | \",lr)\n",
    "    like_ratio.append(lr)\n",
    "    insta_name.append(name)\n",
    "    a+=1"
   ]
  },
  {
   "cell_type": "markdown",
   "id": "5e733dbe",
   "metadata": {},
   "source": [
    "# 3.4 Create a bar graph to depict the above obtained information."
   ]
  },
  {
   "cell_type": "code",
   "execution_count": 35,
   "id": "bfadcd53",
   "metadata": {},
   "outputs": [
    {
     "data": {
      "image/png": "[encoded data removed]",
      "text/plain": [
       "<Figure size 432x288 with 1 Axes>"
      ]
     },
     "metadata": {
      "needs_background": "light"
     },
     "output_type": "display_data"
    }
   ],
   "source": [
    "# for creating bar graph\n",
    "\n",
    "plt.bar(insta_name,like_ratio,color = \"purple\")\n",
    "plt.xlabel(\"Insta Handles\",fontsize=14,color = \"g\")\n",
    "plt.ylabel(\"Like ratio\",fontsize=14,color = \"g\")\n",
    "plt.xticks(rotation = 20)\n",
    "plt.title(\"Ratio Per Foodhandle\",color = \"g\")\n",
    "plt.grid()\n",
    "plt.show()"
   ]
  },
  {
   "cell_type": "code",
   "execution_count": 36,
   "id": "3f235097",
   "metadata": {},
   "outputs": [],
   "source": [
    "# destroying the driver session.\n",
    "\n",
    "driver.quit()"
   ]
  }
 ],
 "metadata": {
  "kernelspec": {
   "display_name": "Python 3 (ipykernel)",
   "language": "python",
   "name": "python3"
  },
  "language_info": {
   "codemirror_mode": {
    "name": "ipython",
    "version": 3
   },
   "file_extension": ".py",
   "mimetype": "text/x-python",
   "name": "python",
   "nbconvert_exporter": "python",
   "pygments_lexer": "ipython3",
   "version": "3.9.7"
  }
 },
 "nbformat": 4,
 "nbformat_minor": 5
}
